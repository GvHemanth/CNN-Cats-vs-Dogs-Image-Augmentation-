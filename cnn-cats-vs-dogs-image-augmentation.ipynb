{
 "cells": [
  {
   "cell_type": "markdown",
   "id": "fc1c761f",
   "metadata": {
    "id": "fc59dbb8",
    "papermill": {
     "duration": 0.006663,
     "end_time": "2023-07-04T17:09:28.518379",
     "exception": false,
     "start_time": "2023-07-04T17:09:28.511716",
     "status": "completed"
    },
    "tags": []
   },
   "source": [
    "### Using CNN's with the Cats vs Dogs Dataset\n",
    "\n",
    "\n",
    "\n",
    "Let's get started!"
   ]
  },
  {
   "cell_type": "code",
   "execution_count": 1,
   "id": "183060ba",
   "metadata": {
    "execution": {
     "iopub.execute_input": "2023-07-04T17:09:28.536503Z",
     "iopub.status.busy": "2023-07-04T17:09:28.536040Z",
     "iopub.status.idle": "2023-07-04T17:09:37.253314Z",
     "shell.execute_reply": "2023-07-04T17:09:37.252311Z"
    },
    "id": "b0179aa5",
    "papermill": {
     "duration": 8.731125,
     "end_time": "2023-07-04T17:09:37.255789",
     "exception": false,
     "start_time": "2023-07-04T17:09:28.524664",
     "status": "completed"
    },
    "tags": [
     "graded"
    ]
   },
   "outputs": [
    {
     "name": "stderr",
     "output_type": "stream",
     "text": [
      "/opt/conda/lib/python3.10/site-packages/tensorflow_io/python/ops/__init__.py:98: UserWarning: unable to load libtensorflow_io_plugins.so: unable to open file: libtensorflow_io_plugins.so, from paths: ['/opt/conda/lib/python3.10/site-packages/tensorflow_io/python/ops/libtensorflow_io_plugins.so']\n",
      "caused by: ['/opt/conda/lib/python3.10/site-packages/tensorflow_io/python/ops/libtensorflow_io_plugins.so: undefined symbol: _ZN3tsl6StatusC1EN10tensorflow5error4CodeESt17basic_string_viewIcSt11char_traitsIcEENS_14SourceLocationE']\n",
      "  warnings.warn(f\"unable to load libtensorflow_io_plugins.so: {e}\")\n",
      "/opt/conda/lib/python3.10/site-packages/tensorflow_io/python/ops/__init__.py:104: UserWarning: file system plugins are not loaded: unable to open file: libtensorflow_io.so, from paths: ['/opt/conda/lib/python3.10/site-packages/tensorflow_io/python/ops/libtensorflow_io.so']\n",
      "caused by: ['/opt/conda/lib/python3.10/site-packages/tensorflow_io/python/ops/libtensorflow_io.so: undefined symbol: _ZTVN10tensorflow13GcsFileSystemE']\n",
      "  warnings.warn(f\"file system plugins are not loaded: {e}\")\n"
     ]
    }
   ],
   "source": [
    "# Import libraries\n",
    "\n",
    "import os\n",
    "import zipfile\n",
    "import random\n",
    "import shutil\n",
    "import tensorflow as tf\n",
    "from tensorflow.keras.preprocessing.image import ImageDataGenerator\n",
    "from tensorflow.keras.optimizers import RMSprop\n",
    "from shutil import copyfile\n",
    "import matplotlib.pyplot as plt"
   ]
  },
  {
   "cell_type": "markdown",
   "id": "d6384493",
   "metadata": {
    "id": "ffcd9e7e",
    "papermill": {
     "duration": 0.006152,
     "end_time": "2023-07-04T17:09:37.268850",
     "exception": false,
     "start_time": "2023-07-04T17:09:37.262698",
     "status": "completed"
    },
    "tags": []
   },
   "source": [
    "Download the dataset from its original source by running the cell below.\n",
    "\n",
    "Note that the `zip` file that contains the images is unzipped under the `/tmp` directory."
   ]
  },
  {
   "cell_type": "code",
   "execution_count": 2,
   "id": "ba78b8c4",
   "metadata": {
    "execution": {
     "iopub.execute_input": "2023-07-04T17:09:37.284631Z",
     "iopub.status.busy": "2023-07-04T17:09:37.282466Z",
     "iopub.status.idle": "2023-07-04T17:10:00.804155Z",
     "shell.execute_reply": "2023-07-04T17:10:00.802912Z"
    },
    "id": "c881d8ff",
    "lines_to_next_cell": 2,
    "outputId": "e6e17510-d66b-4892-e8cc-424aa130620e",
    "papermill": {
     "duration": 23.53212,
     "end_time": "2023-07-04T17:10:00.807115",
     "exception": false,
     "start_time": "2023-07-04T17:09:37.274995",
     "status": "completed"
    },
    "tags": []
   },
   "outputs": [
    {
     "name": "stdout",
     "output_type": "stream",
     "text": [
      "--2023-07-04 17:09:38--  https://download.microsoft.com/download/3/E/1/3E1C3F21-ECDB-4869-8368-6DEBA77B919F/kagglecatsanddogs_5340.zip\r\n",
      "Resolving download.microsoft.com (download.microsoft.com)... 23.46.200.228, 2600:1402:2000:29a::317f, 2600:1402:2000:281::317f\r\n",
      "Connecting to download.microsoft.com (download.microsoft.com)|23.46.200.228|:443... connected.\r\n",
      "HTTP request sent, awaiting response... 200 OK\r\n",
      "Length: 824887076 (787M) [application/octet-stream]\r\n",
      "Saving to: ‘/tmp/cats-and-dogs.zip’\r\n",
      "\r\n",
      "/tmp/cats-and-dogs. 100%[===================>] 786.67M  74.3MB/s    in 14s     \r\n",
      "\r\n",
      "2023-07-04 17:09:52 (56.2 MB/s) - ‘/tmp/cats-and-dogs.zip’ saved [824887076/824887076]\r\n",
      "\r\n"
     ]
    }
   ],
   "source": [
    "# If the URL doesn't work, visit https://www.microsoft.com/en-us/download/confirmation.aspx?id=54765\n",
    "# And right click on the 'Download Manually' link to get a new URL to the dataset\n",
    "\n",
    "# Note: This is a very large dataset and will take some time to download\n",
    "\n",
    "!wget --no-check-certificate \\\n",
    "    \"https://download.microsoft.com/download/3/E/1/3E1C3F21-ECDB-4869-8368-6DEBA77B919F/kagglecatsanddogs_5340.zip\" \\\n",
    "    -O \"/tmp/cats-and-dogs.zip\"\n",
    "\n",
    "local_zip = '/tmp/cats-and-dogs.zip'\n",
    "zip_ref   = zipfile.ZipFile(local_zip, 'r')\n",
    "zip_ref.extractall('/tmp')\n",
    "zip_ref.close()"
   ]
  },
  {
   "cell_type": "markdown",
   "id": "f506219c",
   "metadata": {
    "id": "e3094745",
    "papermill": {
     "duration": 0.01217,
     "end_time": "2023-07-04T17:10:00.832739",
     "exception": false,
     "start_time": "2023-07-04T17:10:00.820569",
     "status": "completed"
    },
    "tags": []
   },
   "source": [
    "Now the images are stored within the `/tmp/PetImages` directory. There is a subdirectory for each class, so one for dogs and one for cats."
   ]
  },
  {
   "cell_type": "code",
   "execution_count": 3,
   "id": "463c5652",
   "metadata": {
    "execution": {
     "iopub.execute_input": "2023-07-04T17:10:00.858570Z",
     "iopub.status.busy": "2023-07-04T17:10:00.858210Z",
     "iopub.status.idle": "2023-07-04T17:10:02.019098Z",
     "shell.execute_reply": "2023-07-04T17:10:02.017341Z"
    },
    "id": "bc3a9fa5",
    "outputId": "9584bf9b-4e9a-41d0-def7-c054a920c11c",
    "papermill": {
     "duration": 1.182656,
     "end_time": "2023-07-04T17:10:02.027460",
     "exception": false,
     "start_time": "2023-07-04T17:10:00.844804",
     "status": "completed"
    },
    "tags": [
     "graded"
    ]
   },
   "outputs": [
    {
     "name": "stdout",
     "output_type": "stream",
     "text": [
      "There are 12500 images of dogs.\n",
      "There are 12500 images of cats.\n"
     ]
    }
   ],
   "source": [
    "\n",
    "\n",
    "source_path = '/tmp/PetImages'\n",
    "\n",
    "source_path_dogs = os.path.join(source_path, 'Dog')\n",
    "source_path_cats = os.path.join(source_path, 'Cat')\n",
    "\n",
    "# Deletes all non-image files (there are two .db files bundled into the dataset)\n",
    "!find /tmp/PetImages/ -type f ! -name \"*.jpg\" -exec rm {} +\n",
    "\n",
    "# os.listdir returns a list containing all files under the given path\n",
    "print(f\"There are {len(os.listdir(source_path_dogs))} images of dogs.\")\n",
    "print(f\"There are {len(os.listdir(source_path_cats))} images of cats.\")"
   ]
  },
  {
   "cell_type": "markdown",
   "id": "1e22ba74",
   "metadata": {
    "id": "f98b9905",
    "papermill": {
     "duration": 0.024192,
     "end_time": "2023-07-04T17:10:02.076322",
     "exception": false,
     "start_time": "2023-07-04T17:10:02.052130",
     "status": "completed"
    },
    "tags": []
   },
   "source": [
    "**Expected Output:**\n",
    "\n",
    "```\n",
    "There are 12500 images of dogs.\n",
    "There are 12500 images of cats.\n",
    "```"
   ]
  },
  {
   "cell_type": "markdown",
   "id": "594f88af",
   "metadata": {
    "id": "7e7e2d79",
    "papermill": {
     "duration": 0.023177,
     "end_time": "2023-07-04T17:10:02.124063",
     "exception": false,
     "start_time": "2023-07-04T17:10:02.100886",
     "status": "completed"
    },
    "tags": []
   },
   "source": [
    "You will need a directory for cats-v-dogs, and subdirectories for training\n",
    "and validation. These in turn will need subdirectories for 'cats' and 'dogs'. To accomplish this, complete the `create_train_val_dirs` below:"
   ]
  },
  {
   "cell_type": "code",
   "execution_count": 4,
   "id": "8f5a7420",
   "metadata": {
    "cellView": "code",
    "execution": {
     "iopub.execute_input": "2023-07-04T17:10:02.173336Z",
     "iopub.status.busy": "2023-07-04T17:10:02.172133Z",
     "iopub.status.idle": "2023-07-04T17:10:02.188046Z",
     "shell.execute_reply": "2023-07-04T17:10:02.186444Z"
    },
    "id": "52ef5808",
    "papermill": {
     "duration": 0.044214,
     "end_time": "2023-07-04T17:10:02.191081",
     "exception": false,
     "start_time": "2023-07-04T17:10:02.146867",
     "status": "completed"
    },
    "tags": [
     "graded"
    ]
   },
   "outputs": [],
   "source": [
    "# Define root directory\n",
    "root_dir = '/tmp/cats-v-dogs'\n",
    "\n",
    "# Empty directory to prevent FileExistsError is the function is run several times\n",
    "if os.path.exists(root_dir):\n",
    "  shutil.rmtree(root_dir)\n",
    "\n",
    "\n",
    "def create_train_val_dirs(root_path):\n",
    "  try:\n",
    "        \n",
    "        os.mkdir('/tmp/cats-v-dogs')\n",
    "        os.mkdir('/tmp/cats-v-dogs/training')\n",
    "        os.mkdir('/tmp/cats-v-dogs/validation')\n",
    "        os.mkdir('/tmp/cats-v-dogs/training/cats')\n",
    "        os.mkdir('/tmp/cats-v-dogs/training/dogs')\n",
    "        os.mkdir('/tmp/cats-v-dogs/validation/cats')\n",
    "        os.mkdir('/tmp/cats-v-dogs/validation/dogs')\n",
    "  except OSError:\n",
    "        pass\n",
    "\n",
    "  pass\n",
    "\n",
    "\n",
    "\n",
    "\n",
    "\n",
    "try:\n",
    "  create_train_val_dirs(root_path=root_dir)\n",
    "except FileExistsError:\n",
    "  print(\"You should not be seeing this since the upper directory is removed beforehand\")"
   ]
  },
  {
   "cell_type": "code",
   "execution_count": 5,
   "id": "76bc016a",
   "metadata": {
    "execution": {
     "iopub.execute_input": "2023-07-04T17:10:02.248138Z",
     "iopub.status.busy": "2023-07-04T17:10:02.246793Z",
     "iopub.status.idle": "2023-07-04T17:10:02.256633Z",
     "shell.execute_reply": "2023-07-04T17:10:02.254678Z"
    },
    "id": "5c43b630",
    "outputId": "57082cd3-1c89-4760-c897-c3063f1cf22d",
    "papermill": {
     "duration": 0.047197,
     "end_time": "2023-07-04T17:10:02.262537",
     "exception": false,
     "start_time": "2023-07-04T17:10:02.215340",
     "status": "completed"
    },
    "tags": [
     "graded"
    ]
   },
   "outputs": [
    {
     "name": "stdout",
     "output_type": "stream",
     "text": [
      "/tmp/cats-v-dogs/validation\n",
      "/tmp/cats-v-dogs/training\n",
      "/tmp/cats-v-dogs/validation/cats\n",
      "/tmp/cats-v-dogs/validation/dogs\n",
      "/tmp/cats-v-dogs/training/cats\n",
      "/tmp/cats-v-dogs/training/dogs\n"
     ]
    }
   ],
   "source": [
    "# Test your create_train_val_dirs function\n",
    "\n",
    "for rootdir, dirs, files in os.walk(root_dir):\n",
    "    for subdir in dirs:\n",
    "        print(os.path.join(rootdir, subdir))"
   ]
  },
  {
   "cell_type": "markdown",
   "id": "1d1a5353",
   "metadata": {
    "id": "3f296af6",
    "papermill": {
     "duration": 0.028432,
     "end_time": "2023-07-04T17:10:02.318902",
     "exception": false,
     "start_time": "2023-07-04T17:10:02.290470",
     "status": "completed"
    },
    "tags": []
   },
   "source": [
    "Code the `split_data` function which takes in the following arguments:\n",
    "- SOURCE_DIR: directory containing the files\n",
    "\n",
    "- TRAINING_DIR: directory that a portion of the files will be copied to (will be used for training)\n",
    "- VALIDATION_DIR: directory that a portion of the files will be copied to (will be used for validation)\n",
    "- SPLIT_SIZE: determines the portion of images used for training.\n",
    "\n",
    "The files should be randomized, so that the training set is a random sample of the files, and the validation set is made up of the remaining files.\n",
    "\n",
    "For example, if `SOURCE_DIR` is `PetImages/Cat`, and `SPLIT_SIZE` is .9 then 90% of the images in `PetImages/Cat` will be copied to the `TRAINING_DIR` directory\n",
    "and 10% of the images will be copied to the `VALIDATION_DIR` directory.\n",
    "\n",
    "All images should be checked before the copy, so if they have a zero file length, they will be omitted from the copying process. If this is the case then your function should print out a message such as `\"filename is zero length, so ignoring.\"`. **You should perform this check before the split so that only non-zero images are considered when doing the actual split.**\n",
    "\n",
    "\n",
    "Hints:\n",
    "\n",
    "- `os.listdir(DIRECTORY)` returns a list with the contents of that directory.\n",
    "\n",
    "- `os.path.getsize(PATH)` returns the size of the file\n",
    "\n",
    "- `copyfile(source, destination)` copies a file from source to destination\n",
    "\n",
    "- `random.sample(list, len(list))` shuffles a list"
   ]
  },
  {
   "cell_type": "code",
   "execution_count": 6,
   "id": "2a88ad74",
   "metadata": {
    "cellView": "code",
    "execution": {
     "iopub.execute_input": "2023-07-04T17:10:02.380135Z",
     "iopub.status.busy": "2023-07-04T17:10:02.378316Z",
     "iopub.status.idle": "2023-07-04T17:10:06.801361Z",
     "shell.execute_reply": "2023-07-04T17:10:06.800085Z"
    },
    "id": "51d821b1",
    "outputId": "4bff0b46-d65d-49ec-9581-54a8635b77ca",
    "papermill": {
     "duration": 4.456389,
     "end_time": "2023-07-04T17:10:06.804582",
     "exception": false,
     "start_time": "2023-07-04T17:10:02.348193",
     "status": "completed"
    },
    "tags": [
     "graded"
    ]
   },
   "outputs": [
    {
     "name": "stdout",
     "output_type": "stream",
     "text": [
      "666.jpg is zero length, so ignoring.\n",
      "11702.jpg is zero length, so ignoring.\n"
     ]
    }
   ],
   "source": [
    "# split_data\n",
    "def split_data(SOURCE, TRAINING, TESTING, SPLIT_SIZE):\n",
    "    files = []\n",
    "    for filename in os.listdir(SOURCE):\n",
    "        file = SOURCE + filename\n",
    "        if os.path.getsize(file) > 0:\n",
    "            files.append(filename)\n",
    "        else:\n",
    "            print(filename + \" is zero length, so ignoring.\")\n",
    "\n",
    "    training_length = int(len(files) * SPLIT_SIZE)\n",
    "    testing_length = int(len(files) - training_length)\n",
    "    shuffled_set = random.sample(files, len(files))\n",
    "    training_set = shuffled_set[0:training_length]\n",
    "    testing_set = shuffled_set[:testing_length]\n",
    "\n",
    "    for filename in training_set:\n",
    "        this_file = SOURCE + filename\n",
    "        destination = TRAINING + filename\n",
    "        copyfile(this_file, destination)\n",
    "\n",
    "    for filename in testing_set:\n",
    "        this_file = SOURCE + filename\n",
    "        destination = TESTING + filename\n",
    "        copyfile(this_file, destination)\n",
    "\n",
    "\n",
    "CAT_SOURCE_DIR = \"/tmp/PetImages/Cat/\"\n",
    "TRAINING_CATS_DIR = \"/tmp/cats-v-dogs/training/cats/\"\n",
    "TESTING_CATS_DIR = \"/tmp/cats-v-dogs/validation/cats/\"\n",
    "DOG_SOURCE_DIR = \"/tmp/PetImages/Dog/\"\n",
    "TRAINING_DOGS_DIR = \"/tmp/cats-v-dogs/training/dogs/\"\n",
    "TESTING_DOGS_DIR = \"/tmp/cats-v-dogs/validation/dogs/\"\n",
    "\n",
    "split_size = .9\n",
    "split_data(CAT_SOURCE_DIR, TRAINING_CATS_DIR, TESTING_CATS_DIR, split_size)\n",
    "split_data(DOG_SOURCE_DIR, TRAINING_DOGS_DIR, TESTING_DOGS_DIR, split_size)\n"
   ]
  },
  {
   "cell_type": "code",
   "execution_count": 7,
   "id": "96f82380",
   "metadata": {
    "execution": {
     "iopub.execute_input": "2023-07-04T17:10:06.839442Z",
     "iopub.status.busy": "2023-07-04T17:10:06.839088Z",
     "iopub.status.idle": "2023-07-04T17:10:11.468037Z",
     "shell.execute_reply": "2023-07-04T17:10:11.465875Z"
    },
    "id": "e5a316b6",
    "outputId": "ef23fa32-0948-488f-d843-ddfa1c0e3604",
    "papermill": {
     "duration": 4.646003,
     "end_time": "2023-07-04T17:10:11.470460",
     "exception": false,
     "start_time": "2023-07-04T17:10:06.824457",
     "status": "completed"
    },
    "tags": [
     "graded"
    ]
   },
   "outputs": [
    {
     "name": "stdout",
     "output_type": "stream",
     "text": [
      "666.jpg is zero length, so ignoring.\n",
      "11702.jpg is zero length, so ignoring.\n",
      "\n",
      "\n",
      "Original cat's directory has 12500 images\n",
      "Original dog's directory has 12500 images\n",
      "\n",
      "There are 11249 images of cats for training\n",
      "There are 11249 images of dogs for training\n",
      "There are 1250 images of cats for validation\n",
      "There are 1250 images of dogs for validation\n"
     ]
    }
   ],
   "source": [
    "# Test your split_data function\n",
    "\n",
    "# Define paths\n",
    "CAT_SOURCE_DIR = \"/tmp/PetImages/Cat/\"\n",
    "DOG_SOURCE_DIR = \"/tmp/PetImages/Dog/\"\n",
    "\n",
    "TRAINING_DIR = \"/tmp/cats-v-dogs/training/\"\n",
    "VALIDATION_DIR = \"/tmp/cats-v-dogs/validation/\"\n",
    "\n",
    "TRAINING_CATS_DIR = os.path.join(TRAINING_DIR, \"cats/\")\n",
    "VALIDATION_CATS_DIR = os.path.join(VALIDATION_DIR, \"cats/\")\n",
    "\n",
    "TRAINING_DOGS_DIR = os.path.join(TRAINING_DIR, \"dogs/\")\n",
    "VALIDATION_DOGS_DIR = os.path.join(VALIDATION_DIR, \"dogs/\")\n",
    "\n",
    "# Empty directories in case you run this cell multiple times\n",
    "if len(os.listdir(TRAINING_CATS_DIR)) > 0:\n",
    "  for file in os.scandir(TRAINING_CATS_DIR):\n",
    "    os.remove(file.path)\n",
    "if len(os.listdir(TRAINING_DOGS_DIR)) > 0:\n",
    "  for file in os.scandir(TRAINING_DOGS_DIR):\n",
    "    os.remove(file.path)\n",
    "if len(os.listdir(VALIDATION_CATS_DIR)) > 0:\n",
    "  for file in os.scandir(VALIDATION_CATS_DIR):\n",
    "    os.remove(file.path)\n",
    "if len(os.listdir(VALIDATION_DOGS_DIR)) > 0:\n",
    "  for file in os.scandir(VALIDATION_DOGS_DIR):\n",
    "    os.remove(file.path)\n",
    "\n",
    "# Define proportion of images used for training\n",
    "split_size = .9\n",
    "\n",
    "# Run the function\n",
    "# NOTE: Messages about zero length images should be printed out\n",
    "split_data(CAT_SOURCE_DIR, TRAINING_CATS_DIR, VALIDATION_CATS_DIR, split_size)\n",
    "split_data(DOG_SOURCE_DIR, TRAINING_DOGS_DIR, VALIDATION_DOGS_DIR, split_size)\n",
    "\n",
    "# Check that the number of images matches the expected output\n",
    "\n",
    "# Your function should perform copies rather than moving images so original directories should contain unchanged images\n",
    "print(f\"\\n\\nOriginal cat's directory has {len(os.listdir(CAT_SOURCE_DIR))} images\")\n",
    "print(f\"Original dog's directory has {len(os.listdir(DOG_SOURCE_DIR))} images\\n\")\n",
    "\n",
    "# Training and validation splits\n",
    "print(f\"There are {len(os.listdir(TRAINING_CATS_DIR))} images of cats for training\")\n",
    "print(f\"There are {len(os.listdir(TRAINING_DOGS_DIR))} images of dogs for training\")\n",
    "print(f\"There are {len(os.listdir(VALIDATION_CATS_DIR))} images of cats for validation\")\n",
    "print(f\"There are {len(os.listdir(VALIDATION_DOGS_DIR))} images of dogs for validation\")"
   ]
  },
  {
   "cell_type": "markdown",
   "id": "e4ab8b9c",
   "metadata": {
    "id": "866801c2",
    "papermill": {
     "duration": 0.018914,
     "end_time": "2023-07-04T17:10:11.502520",
     "exception": false,
     "start_time": "2023-07-04T17:10:11.483606",
     "status": "completed"
    },
    "tags": []
   },
   "source": [
    "**Expected Output:**\n",
    "\n",
    "```\n",
    "666.jpg is zero length, so ignoring.\n",
    "11702.jpg is zero length, so ignoring.\n",
    "\n",
    "\n",
    "Original cat's directory has 12500 images\n",
    "Original dog's directory has 12500 images\n",
    "\n",
    "There are 11249 images of cats for training\n",
    "There are 11249 images of dogs for training\n",
    "There are 1250 images of cats for validation\n",
    "There are 1250 images of dogs for validation\n",
    "```"
   ]
  },
  {
   "cell_type": "code",
   "execution_count": 8,
   "id": "456cb721",
   "metadata": {
    "cellView": "code",
    "execution": {
     "iopub.execute_input": "2023-07-04T17:10:11.544920Z",
     "iopub.status.busy": "2023-07-04T17:10:11.543408Z",
     "iopub.status.idle": "2023-07-04T17:10:11.561344Z",
     "shell.execute_reply": "2023-07-04T17:10:11.560146Z"
    },
    "id": "072bb609",
    "papermill": {
     "duration": 0.042466,
     "end_time": "2023-07-04T17:10:11.564072",
     "exception": false,
     "start_time": "2023-07-04T17:10:11.521606",
     "status": "completed"
    },
    "tags": [
     "graded"
    ]
   },
   "outputs": [],
   "source": [
    "# train_val_generators\n",
    "def train_val_generators(TRAINING_DIR, VALIDATION_DIR):\n",
    "  \"\"\"\n",
    "  Creates the training and validation data generators\n",
    "\n",
    "  Args:\n",
    "    TRAINING_DIR (string): directory path containing the training images\n",
    "    VALIDATION_DIR (string): directory path containing the testing/validation images\n",
    "\n",
    "  Returns:\n",
    "    train_generator, validation_generator - tuple containing the generators\n",
    "  \"\"\"\n",
    "\n",
    "  # Instantiate the ImageDataGenerator class (don't forget to set the rescale argument)\n",
    "  train_datagen =ImageDataGenerator(rescale=1./255)\n",
    "  '''rotation_range=40,\n",
    "      width_shift_range=0.2,\n",
    "      height_shift_range=0.2,\n",
    "      shear_range=0.2,\n",
    "      zoom_range=0.2,\n",
    "      horizontal_flip=True,\n",
    "      fill_mode='nearest')\n",
    "      '''\n",
    "  train_generator = train_datagen.flow_from_directory(TRAINING_DIR,\n",
    "                                                      batch_size=100,\n",
    "                                                      class_mode='binary',\n",
    "                                                      target_size=(150, 150))\n",
    "\n",
    "  # Pass in the appropriate arguments to the flow_from_directory method\n",
    "   # Instantiate the ImageDataGenerator class (don't forget to set the rescale argument)\n",
    "  validation_datagen = ImageDataGenerator(rescale=1./255)\n",
    "  '''\n",
    "      rotation_range=40,\n",
    "      width_shift_range=0.2,\n",
    "      height_shift_range=0.2,\n",
    "      shear_range=0.2,\n",
    "      zoom_range=0.2,\n",
    "      horizontal_flip=True,\n",
    "      fill_mode='nearest') '''\n",
    "  validation_generator = validation_datagen.flow_from_directory(VALIDATION_DIR,\n",
    "                                                                batch_size=100,\n",
    "                                                                class_mode='binary',\n",
    "                                                                target_size=(150, 150))\n",
    "    \n",
    "  return train_generator, validation_generator"
   ]
  },
  {
   "cell_type": "code",
   "execution_count": 9,
   "id": "57e2a2d4",
   "metadata": {
    "execution": {
     "iopub.execute_input": "2023-07-04T17:10:11.608798Z",
     "iopub.status.busy": "2023-07-04T17:10:11.608383Z",
     "iopub.status.idle": "2023-07-04T17:10:12.578474Z",
     "shell.execute_reply": "2023-07-04T17:10:12.577499Z"
    },
    "id": "642806f1",
    "outputId": "47d90c0e-18ac-4203-ddaa-ddb00fc105df",
    "papermill": {
     "duration": 0.995313,
     "end_time": "2023-07-04T17:10:12.582159",
     "exception": false,
     "start_time": "2023-07-04T17:10:11.586846",
     "status": "completed"
    },
    "tags": [
     "graded"
    ]
   },
   "outputs": [
    {
     "name": "stdout",
     "output_type": "stream",
     "text": [
      "Found 22498 images belonging to 2 classes.\n",
      "Found 2500 images belonging to 2 classes.\n"
     ]
    }
   ],
   "source": [
    "# Test your generators\n",
    "train_generator, validation_generator = train_val_generators(TRAINING_DIR, VALIDATION_DIR)"
   ]
  },
  {
   "cell_type": "code",
   "execution_count": 10,
   "id": "c814645d",
   "metadata": {
    "cellView": "code",
    "execution": {
     "iopub.execute_input": "2023-07-04T17:10:12.621225Z",
     "iopub.status.busy": "2023-07-04T17:10:12.620584Z",
     "iopub.status.idle": "2023-07-04T17:10:12.634922Z",
     "shell.execute_reply": "2023-07-04T17:10:12.634071Z"
    },
    "id": "6f375c5d",
    "lines_to_next_cell": 2,
    "papermill": {
     "duration": 0.036977,
     "end_time": "2023-07-04T17:10:12.637874",
     "exception": false,
     "start_time": "2023-07-04T17:10:12.600897",
     "status": "completed"
    },
    "tags": [
     "graded"
    ]
   },
   "outputs": [],
   "source": [
    "# create_model\n",
    "def create_model():\n",
    "  # DEFINE A KERAS MODEL TO CLASSIFY CATS V DOGS\n",
    "  # USE AT LEAST 3 CONVOLUTION LAYERS\n",
    "  #tpu = tf.distribute.cluster_resolver.TPUClusterResolver.connect()\n",
    "\n",
    "  #tpu_strategy = tf.distribute.TPUStrategy(tpu)\n",
    "\n",
    "      model = tf.keras.models.Sequential([\n",
    "          tf.keras.layers.Conv2D(16, (3, 3), activation='relu', input_shape=(150, 150, 3)),\n",
    "          tf.keras.layers.BatchNormalization(),\n",
    "        tf.keras.layers.MaxPooling2D(2, 2),\n",
    "          tf.keras.layers.Dropout(0.25),\n",
    "\n",
    "        tf.keras.layers.Conv2D(32, (3, 3), activation='relu'),\n",
    "        tf.keras.layers.BatchNormalization(),\n",
    "          tf.keras.layers.MaxPooling2D(2, 2),\n",
    "          tf.keras.layers.Dropout(0.25),\n",
    "\n",
    "        tf.keras.layers.Conv2D(64, (3, 3), activation='relu'),\n",
    "        tf.keras.layers.BatchNormalization(),\n",
    "          tf.keras.layers.MaxPooling2D(2, 2),\n",
    "          tf.keras.layers.Dropout(0.25),\n",
    "        tf.keras.layers.Flatten(),\n",
    "        tf.keras.layers.Dense(512, activation='relu'),\n",
    "          tf.keras.layers.Dropout(0.25),\n",
    "        tf.keras.layers.Dense(1, activation='sigmoid')\n",
    "    ])\n",
    "\n",
    "      model.compile(optimizer=RMSprop(lr=0.001), loss='binary_crossentropy', metrics=['acc'])\n",
    "\n",
    "       \n",
    "\n",
    "      return model"
   ]
  },
  {
   "cell_type": "markdown",
   "id": "d534be98",
   "metadata": {
    "id": "991de70d",
    "papermill": {
     "duration": 0.018924,
     "end_time": "2023-07-04T17:10:12.674867",
     "exception": false,
     "start_time": "2023-07-04T17:10:12.655943",
     "status": "completed"
    },
    "tags": []
   },
   "source": [
    "Now it is time to train your model!\n",
    "\n",
    "**Note:** You can ignore the `UserWarning: Possibly corrupt EXIF data.` warnings."
   ]
  },
  {
   "cell_type": "code",
   "execution_count": 11,
   "id": "3cb6dd0a",
   "metadata": {
    "execution": {
     "iopub.execute_input": "2023-07-04T17:10:12.713948Z",
     "iopub.status.busy": "2023-07-04T17:10:12.713513Z",
     "iopub.status.idle": "2023-07-04T17:10:12.726796Z",
     "shell.execute_reply": "2023-07-04T17:10:12.725986Z"
    },
    "id": "FK9cc6j2-2Au",
    "outputId": "be5b0d43-c0d8-4a25-8a6f-e428eb6e09d6",
    "papermill": {
     "duration": 0.035787,
     "end_time": "2023-07-04T17:10:12.729400",
     "exception": false,
     "start_time": "2023-07-04T17:10:12.693613",
     "status": "completed"
    },
    "tags": []
   },
   "outputs": [
    {
     "data": {
      "text/plain": [
       "'import tensorflow as tf\\nprint(\"Tensorflow version \" + tf.__version__)\\n\\ntry:\\n  tpu = tf.distribute.cluster_resolver.TPUClusterResolver()  # TPU detection\\n  print(\\'Running on TPU \\', tpu.cluster_spec().as_dict()[\\'worker\\'])\\nexcept ValueError:\\n  raise BaseException(\\'ERROR: Not connected to a TPU runtime; please see the previous cell in this notebook for instructions!\\')\\n\\ntf.config.experimental_connect_to_cluster(tpu)\\ntf.tpu.experimental.initialize_tpu_system(tpu)\\ntpu_strategy = tf.distribute.TPUStrategy(tpu)'"
      ]
     },
     "execution_count": 11,
     "metadata": {},
     "output_type": "execute_result"
    }
   ],
   "source": [
    "'''import tensorflow as tf\n",
    "print(\"Tensorflow version \" + tf.__version__)\n",
    "\n",
    "try:\n",
    "  tpu = tf.distribute.cluster_resolver.TPUClusterResolver()  # TPU detection\n",
    "  print('Running on TPU ', tpu.cluster_spec().as_dict()['worker'])\n",
    "except ValueError:\n",
    "  raise BaseException('ERROR: Not connected to a TPU runtime; please see the previous cell in this notebook for instructions!')\n",
    "\n",
    "tf.config.experimental_connect_to_cluster(tpu)\n",
    "tf.tpu.experimental.initialize_tpu_system(tpu)\n",
    "tpu_strategy = tf.distribute.TPUStrategy(tpu)'''"
   ]
  },
  {
   "cell_type": "code",
   "execution_count": 12,
   "id": "68906591",
   "metadata": {
    "execution": {
     "iopub.execute_input": "2023-07-04T17:10:12.876455Z",
     "iopub.status.busy": "2023-07-04T17:10:12.875954Z",
     "iopub.status.idle": "2023-07-04T17:25:25.684283Z",
     "shell.execute_reply": "2023-07-04T17:25:25.683135Z"
    },
    "id": "fedfe6d0",
    "outputId": "6905e47f-f4c1-43fb-8ef7-3b70c63c8ac2",
    "papermill": {
     "duration": 912.937777,
     "end_time": "2023-07-04T17:25:25.686874",
     "exception": false,
     "start_time": "2023-07-04T17:10:12.749097",
     "status": "completed"
    },
    "tags": []
   },
   "outputs": [
    {
     "name": "stdout",
     "output_type": "stream",
     "text": [
      "Epoch 1/15\n"
     ]
    },
    {
     "name": "stderr",
     "output_type": "stream",
     "text": [
      "2023-07-04 17:10:18.463434: E tensorflow/core/grappler/optimizers/meta_optimizer.cc:954] layout failed: INVALID_ARGUMENT: Size of values 0 does not match size of permutation 4 @ fanin shape insequential/dropout/dropout/SelectV2-2-TransposeNHWCToNCHW-LayoutOptimizer\n"
     ]
    },
    {
     "name": "stdout",
     "output_type": "stream",
     "text": [
      "127/225 [===============>..............] - ETA: 20s - loss: 2.3943 - acc: 0.6002"
     ]
    },
    {
     "name": "stderr",
     "output_type": "stream",
     "text": [
      "/opt/conda/lib/python3.10/site-packages/PIL/TiffImagePlugin.py:864: UserWarning: Truncated File Read\n",
      "  warnings.warn(str(msg))\n"
     ]
    },
    {
     "name": "stdout",
     "output_type": "stream",
     "text": [
      "225/225 [==============================] - 63s 234ms/step - loss: 1.6063 - acc: 0.6425 - val_loss: 1.9770 - val_acc: 0.5000\n",
      "Epoch 2/15\n",
      "225/225 [==============================] - 49s 216ms/step - loss: 0.5147 - acc: 0.7499 - val_loss: 1.0538 - val_acc: 0.5608\n",
      "Epoch 3/15\n",
      "225/225 [==============================] - 49s 219ms/step - loss: 0.4430 - acc: 0.7957 - val_loss: 1.2157 - val_acc: 0.6224\n",
      "Epoch 4/15\n",
      "225/225 [==============================] - 52s 233ms/step - loss: 0.3872 - acc: 0.8266 - val_loss: 1.1064 - val_acc: 0.7272\n",
      "Epoch 5/15\n",
      "225/225 [==============================] - 52s 229ms/step - loss: 0.3466 - acc: 0.8523 - val_loss: 0.8513 - val_acc: 0.8116\n",
      "Epoch 6/15\n",
      "225/225 [==============================] - 49s 217ms/step - loss: 0.3161 - acc: 0.8675 - val_loss: 0.2334 - val_acc: 0.9048\n",
      "Epoch 7/15\n",
      "225/225 [==============================] - 51s 225ms/step - loss: 0.2732 - acc: 0.8889 - val_loss: 3.1829 - val_acc: 0.7384\n",
      "Epoch 8/15\n",
      "225/225 [==============================] - 50s 221ms/step - loss: 0.2507 - acc: 0.8977 - val_loss: 8.7945 - val_acc: 0.6220\n",
      "Epoch 9/15\n",
      "225/225 [==============================] - 49s 218ms/step - loss: 0.2192 - acc: 0.9139 - val_loss: 0.9896 - val_acc: 0.7172\n",
      "Epoch 10/15\n",
      "225/225 [==============================] - 47s 210ms/step - loss: 0.2010 - acc: 0.9219 - val_loss: 0.3436 - val_acc: 0.9280\n",
      "Epoch 11/15\n",
      "225/225 [==============================] - 48s 213ms/step - loss: 0.1802 - acc: 0.9331 - val_loss: 0.1764 - val_acc: 0.9432\n",
      "Epoch 12/15\n",
      "225/225 [==============================] - 53s 234ms/step - loss: 0.1712 - acc: 0.9363 - val_loss: 0.1716 - val_acc: 0.9504\n",
      "Epoch 13/15\n",
      "225/225 [==============================] - 49s 217ms/step - loss: 0.1499 - acc: 0.9454 - val_loss: 0.2885 - val_acc: 0.8828\n",
      "Epoch 14/15\n",
      "225/225 [==============================] - 50s 224ms/step - loss: 0.1406 - acc: 0.9488 - val_loss: 0.2645 - val_acc: 0.8908\n",
      "Epoch 15/15\n",
      "225/225 [==============================] - 51s 224ms/step - loss: 0.1395 - acc: 0.9531 - val_loss: 2.9169 - val_acc: 0.7804\n"
     ]
    }
   ],
   "source": [
    "# Get the untrained model\n",
    "#with tpu_strategy.scope():\n",
    "model = create_model()\n",
    "\n",
    "# Train the model\n",
    "# Note that this may take some time.\n",
    "history = model.fit(train_generator,\n",
    "                    epochs=15,\n",
    "                    verbose=1,\n",
    "                    validation_data=validation_generator)"
   ]
  },
  {
   "cell_type": "code",
   "execution_count": 13,
   "id": "64012e8a",
   "metadata": {
    "execution": {
     "iopub.execute_input": "2023-07-04T17:25:26.316901Z",
     "iopub.status.busy": "2023-07-04T17:25:26.316537Z",
     "iopub.status.idle": "2023-07-04T17:25:26.786599Z",
     "shell.execute_reply": "2023-07-04T17:25:26.785604Z"
    },
    "id": "70658d4d",
    "outputId": "fe8b110f-ad50-497a-9d50-d6912f6f3675",
    "papermill": {
     "duration": 0.815492,
     "end_time": "2023-07-04T17:25:26.788819",
     "exception": false,
     "start_time": "2023-07-04T17:25:25.973327",
     "status": "completed"
    },
    "tags": []
   },
   "outputs": [
    {
     "data": {
      "image/png": "[encoded data removed]",
      "text/plain": [
       "<Figure size 640x480 with 1 Axes>"
      ]
     },
     "metadata": {},
     "output_type": "display_data"
    },
    {
     "name": "stdout",
     "output_type": "stream",
     "text": [
      "\n"
     ]
    },
    {
     "data": {
      "image/png": "[encoded data removed]",
      "text/plain": [
       "<Figure size 640x480 with 1 Axes>"
      ]
     },
     "metadata": {},
     "output_type": "display_data"
    }
   ],
   "source": [
    "#-----------------------------------------------------------\n",
    "# Retrieve a list of list results on training and test data\n",
    "# sets for each training epoch\n",
    "#-----------------------------------------------------------\n",
    "acc=history.history['acc']\n",
    "val_acc=history.history['val_acc']\n",
    "loss=history.history['loss']\n",
    "val_loss=history.history['val_loss']\n",
    "\n",
    "epochs=range(len(acc)) # Get number of epochs\n",
    "\n",
    "#------------------------------------------------\n",
    "# Plot training and validation accuracy per epoch\n",
    "#------------------------------------------------\n",
    "plt.plot(epochs, acc, 'r', \"Training Accuracy\")\n",
    "plt.plot(epochs, val_acc, 'b', \"Validation Accuracy\")\n",
    "plt.title('Training and validation accuracy')\n",
    "plt.show()\n",
    "print(\"\")\n",
    "\n",
    "#------------------------------------------------\n",
    "# Plot training and validation loss per epoch\n",
    "#------------------------------------------------\n",
    "plt.plot(epochs, loss, 'r', \"Training Loss\")\n",
    "plt.plot(epochs, val_loss, 'b', \"Validation Loss\")\n",
    "plt.show()"
   ]
  },
  {
   "cell_type": "markdown",
   "id": "58509241",
   "metadata": {
    "papermill": {
     "duration": 0.282639,
     "end_time": "2023-07-04T17:25:27.360301",
     "exception": false,
     "start_time": "2023-07-04T17:25:27.077662",
     "status": "completed"
    },
    "tags": []
   },
   "source": [
    "## END"
   ]
  }
 ],
 "metadata": {
  "kernelspec": {
   "display_name": "Python 3",
   "language": "python",
   "name": "python3"
  },
  "language_info": {
   "codemirror_mode": {
    "name": "ipython",
    "version": 3
   },
   "file_extension": ".py",
   "mimetype": "text/x-python",
   "name": "python",
   "nbconvert_exporter": "python",
   "pygments_lexer": "ipython3",
   "version": "3.10.10"
  },
  "papermill": {
   "default_parameters": {},
   "duration": 974.471068,
   "end_time": "2023-07-04T17:25:31.358615",
   "environment_variables": {},
   "exception": null,
   "input_path": "__notebook__.ipynb",
   "output_path": "__notebook__.ipynb",
   "parameters": {},
   "start_time": "2023-07-04T17:09:16.887547",
   "version": "2.4.0"
  }
 },
 "nbformat": 4,
 "nbformat_minor": 5
}
